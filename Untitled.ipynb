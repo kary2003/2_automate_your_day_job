{
 "cells": [
  {
   "cell_type": "code",
   "execution_count": 1,
   "metadata": {},
   "outputs": [
    {
     "ename": "NameError",
     "evalue": "name 'df' is not defined",
     "output_type": "error",
     "traceback": [
      "\u001b[1;31m---------------------------------------------------------------------------\u001b[0m",
      "\u001b[1;31mNameError\u001b[0m                                 Traceback (most recent call last)",
      "\u001b[1;32mcell_name\u001b[0m in \u001b[0;36masync-def-wrapper\u001b[1;34m()\u001b[0m\n",
      "\u001b[1;31mNameError\u001b[0m: name 'df' is not defined"
     ]
    }
   ],
   "source": [
    "\n",
    "\n",
    "def answer_one():\n",
    "\n",
    "    row=1\n",
    "\n",
    "max_sales = df['sales'].row  # Setting the initial maximum.\n",
    "\n",
    "for col in df.columns: \n",
    "\n",
    "    if col[:2]=='sales': # finding the column.    \n",
    "\n",
    "        # now iterating through all the rows, finding finally the absolute maximum:\n",
    "\n",
    "        for row in df.itertuples():\n",
    "            # I also tried: for row=2 in df.rows:\n",
    "\n",
    "            if(df['sales'].row > max_sales):  \n",
    "            # I also tried: if(row.Gold > max_gold)\n",
    "\n",
    "                 max_gold = df['Gold'].row \n",
    "                #  I also tried: max_gold = row.Gold\n",
    "\n",
    "return df.max_sales"
   ]
  },
  {
   "cell_type": "code",
   "execution_count": null,
   "metadata": {},
   "outputs": [],
   "source": []
  }
 ],
 "metadata": {
  "kernelspec": {
   "display_name": "Python 3",
   "language": "python",
   "name": "python3"
  },
  "language_info": {
   "codemirror_mode": {
    "name": "ipython",
    "version": 3
   },
   "file_extension": ".py",
   "mimetype": "text/x-python",
   "name": "python",
   "nbconvert_exporter": "python",
   "pygments_lexer": "ipython3",
   "version": "3.7.7"
  }
 },
 "nbformat": 4,
 "nbformat_minor": 4
}
